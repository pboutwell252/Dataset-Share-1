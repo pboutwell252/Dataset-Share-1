{
 "cells": [
  {
   "cell_type": "code",
   "execution_count": 7,
   "metadata": {},
   "outputs": [],
   "source": [
    "import nltk\n",
    "import numpy as np\n",
    "\n",
    "import nltk.classify.util\n",
    "from nltk.classify import NaiveBayesClassifier\n",
    "\n",
    "from nltk.book import *\n",
    "from string import punctuation\n",
    "from collections import Counter\n",
    "\n",
    "from pprint import pprint \n",
    "\n",
    "from nltk.corpus import stopwords\n",
    "\n",
    "sw = stopwords.words('english')"
   ]
  },
  {
   "cell_type": "markdown",
   "metadata": {},
   "source": [
    "# Oregon State Football"
   ]
  },
  {
   "cell_type": "code",
   "execution_count": 8,
   "metadata": {},
   "outputs": [],
   "source": [
    "beaver_football = open(\"BeaverFootball_followers.txt\",'r',encoding=\"utf8\").read()"
   ]
  },
  {
   "cell_type": "code",
   "execution_count": 9,
   "metadata": {},
   "outputs": [
    {
     "data": {
      "text/plain": [
       "6165138"
      ]
     },
     "execution_count": 9,
     "metadata": {},
     "output_type": "execute_result"
    }
   ],
   "source": [
    "len(beaver_football)"
   ]
  },
  {
   "cell_type": "code",
   "execution_count": 10,
   "metadata": {},
   "outputs": [],
   "source": [
    "beav_clean = [w for w in beaver_football.split()]\n",
    "beav_clean = [w.lower() for w in beav_clean if w.isalpha() and w.lower() not in sw]"
   ]
  },
  {
   "cell_type": "code",
   "execution_count": 11,
   "metadata": {},
   "outputs": [
    {
     "data": {
      "text/plain": [
       "['name',\n",
       " 'location',\n",
       " 'description',\n",
       " 'isaiah',\n",
       " 'glaspie',\n",
       " 'athlete',\n",
       " 'ca',\n",
       " 'michael',\n",
       " 'strop',\n",
       " 'lincoln']"
      ]
     },
     "execution_count": 11,
     "metadata": {},
     "output_type": "execute_result"
    }
   ],
   "source": [
    "beav_clean[:10]"
   ]
  },
  {
   "cell_type": "code",
   "execution_count": 12,
   "metadata": {},
   "outputs": [
    {
     "data": {
      "text/plain": [
       "413019"
      ]
     },
     "execution_count": 12,
     "metadata": {},
     "output_type": "execute_result"
    }
   ],
   "source": [
    "len(beav_clean)"
   ]
  },
  {
   "cell_type": "code",
   "execution_count": 25,
   "metadata": {},
   "outputs": [
    {
     "name": "stdout",
     "output_type": "stream",
     "text": [
      "Oregon State Football is 413019 tokens long.\n",
      "Oregon State Football has 90706 unique tokens.\n",
      "Oregon State Football's lexical diversity is 0.220.\n",
      "Oregon State Football's average token length is 6.03.\n"
     ]
    }
   ],
   "source": [
    "print(f\"Oregon State Football is {len(beav_clean)} tokens long.\")\n",
    "print(f\"Oregon State Football has {len(set(beav_clean))} unique tokens.\")\n",
    "\n",
    "print(f\"Oregon State Football's lexical diversity is {len(set(beav_clean))/len(beav_clean):.3f}.\")\n",
    "\n",
    "# Build a vector of token length\n",
    "beav_token_len = [len(w) for w in beav_clean]\n",
    "\n",
    "print(f\"Oregon State Football's average token length is {np.mean(beav_token_len):.2f}.\")"
   ]
  },
  {
   "cell_type": "code",
   "execution_count": 15,
   "metadata": {},
   "outputs": [],
   "source": [
    "beav_counter = Counter(beav_clean)"
   ]
  },
  {
   "cell_type": "code",
   "execution_count": 16,
   "metadata": {},
   "outputs": [
    {
     "data": {
      "text/plain": [
       "[('oregon', 5475),\n",
       " ('usa', 4578),\n",
       " ('football', 4506),\n",
       " ('high', 3536),\n",
       " ('ca', 3417),\n",
       " ('state', 2687),\n",
       " ('school', 2667),\n",
       " ('sports', 2291),\n",
       " ('class', 2017),\n",
       " ('love', 2010)]"
      ]
     },
     "execution_count": 16,
     "metadata": {},
     "output_type": "execute_result"
    }
   ],
   "source": [
    "beav_counter.most_common(10)"
   ]
  },
  {
   "cell_type": "markdown",
   "metadata": {},
   "source": [
    "# University of Oregon Football"
   ]
  },
  {
   "cell_type": "code",
   "execution_count": 17,
   "metadata": {},
   "outputs": [],
   "source": [
    "oregon_football = open(\"oregonfootball_followers.txt\",'r',encoding=\"utf8\").read()"
   ]
  },
  {
   "cell_type": "code",
   "execution_count": 18,
   "metadata": {},
   "outputs": [
    {
     "data": {
      "text/plain": [
       "20820177"
      ]
     },
     "execution_count": 18,
     "metadata": {},
     "output_type": "execute_result"
    }
   ],
   "source": [
    "len(oregon_football)"
   ]
  },
  {
   "cell_type": "code",
   "execution_count": 19,
   "metadata": {},
   "outputs": [],
   "source": [
    "UO_clean = [w for w in oregon_football.split()]\n",
    "UO_clean = [w.lower() for w in UO_clean if w.isalpha() and w.lower() not in sw]"
   ]
  },
  {
   "cell_type": "code",
   "execution_count": 20,
   "metadata": {},
   "outputs": [
    {
     "data": {
      "text/plain": [
       "['name',\n",
       " 'location',\n",
       " 'description',\n",
       " 'dillon',\n",
       " 'dunn',\n",
       " 'jake',\n",
       " 'jernstedt',\n",
       " 'xxcrystalannxx',\n",
       " 'crystal',\n",
       " 'ann']"
      ]
     },
     "execution_count": 20,
     "metadata": {},
     "output_type": "execute_result"
    }
   ],
   "source": [
    "UO_clean[:10]"
   ]
  },
  {
   "cell_type": "code",
   "execution_count": 21,
   "metadata": {},
   "outputs": [
    {
     "data": {
      "text/plain": [
       "1382768"
      ]
     },
     "execution_count": 21,
     "metadata": {},
     "output_type": "execute_result"
    }
   ],
   "source": [
    "len(UO_clean)"
   ]
  },
  {
   "cell_type": "code",
   "execution_count": 22,
   "metadata": {},
   "outputs": [
    {
     "name": "stdout",
     "output_type": "stream",
     "text": [
      "University of Oregon Football is 1382768 tokens long.\n",
      "University of Oregon has 233715 unique tokens.\n",
      "University of Oregon Football's lexical diversity is 0.169.\n",
      "University of Oregon Football's average token length is 5.93.\n"
     ]
    }
   ],
   "source": [
    "print(f\"University of Oregon Football is {len(UO_clean)} tokens long.\")\n",
    "print(f\"University of Oregon has {len(set(UO_clean))} unique tokens.\")\n",
    "\n",
    "print(f\"University of Oregon Football's lexical diversity is {len(set(UO_clean))/len(UO_clean):.3f}.\")\n",
    "\n",
    "# Build a vector of token length\n",
    "UO_token_len = [len(w) for w in UO_clean]\n",
    "\n",
    "print(f\"University of Oregon Football's average token length is {np.mean(UO_token_len):.2f}.\")"
   ]
  },
  {
   "cell_type": "code",
   "execution_count": 23,
   "metadata": {},
   "outputs": [],
   "source": [
    "UO_counter = Counter(UO_clean)"
   ]
  },
  {
   "cell_type": "code",
   "execution_count": 24,
   "metadata": {},
   "outputs": [
    {
     "data": {
      "text/plain": [
       "[('usa', 16623),\n",
       " ('football', 13439),\n",
       " ('oregon', 11531),\n",
       " ('ca', 9720),\n",
       " ('high', 8958),\n",
       " ('sports', 7436),\n",
       " ('love', 7054),\n",
       " ('school', 6792),\n",
       " ('class', 5827),\n",
       " ('tx', 5612)]"
      ]
     },
     "execution_count": 24,
     "metadata": {},
     "output_type": "execute_result"
    }
   ],
   "source": [
    "UO_counter.most_common(10)"
   ]
  },
  {
   "cell_type": "code",
   "execution_count": null,
   "metadata": {},
   "outputs": [],
   "source": []
  }
 ],
 "metadata": {
  "kernelspec": {
   "display_name": "Python 3",
   "language": "python",
   "name": "python3"
  },
  "language_info": {
   "codemirror_mode": {
    "name": "ipython",
    "version": 3
   },
   "file_extension": ".py",
   "mimetype": "text/x-python",
   "name": "python",
   "nbconvert_exporter": "python",
   "pygments_lexer": "ipython3",
   "version": "3.8.3"
  }
 },
 "nbformat": 4,
 "nbformat_minor": 4
}
